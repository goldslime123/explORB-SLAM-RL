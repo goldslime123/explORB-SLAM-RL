{
 "cells": [
  {
   "cell_type": "code",
   "execution_count": 13,
   "metadata": {},
   "outputs": [
    {
     "name": "stdout",
     "output_type": "stream",
     "text": [
      "robot_position       object\n",
      "robot_orientation    object\n",
      "centroid_record      object\n",
      "info_gain_record     object\n",
      "dtype: object\n"
     ]
    },
    {
     "data": {
      "text/html": [
       "<div>\n",
       "<style scoped>\n",
       "    .dataframe tbody tr th:only-of-type {\n",
       "        vertical-align: middle;\n",
       "    }\n",
       "\n",
       "    .dataframe tbody tr th {\n",
       "        vertical-align: top;\n",
       "    }\n",
       "\n",
       "    .dataframe thead th {\n",
       "        text-align: right;\n",
       "    }\n",
       "</style>\n",
       "<table border=\"1\" class=\"dataframe\">\n",
       "  <thead>\n",
       "    <tr style=\"text-align: right;\">\n",
       "      <th></th>\n",
       "      <th>robot_position</th>\n",
       "      <th>robot_orientation</th>\n",
       "      <th>centroid_record</th>\n",
       "      <th>info_gain_record</th>\n",
       "    </tr>\n",
       "  </thead>\n",
       "  <tbody>\n",
       "    <tr>\n",
       "      <th></th>\n",
       "      <td>1.6998447315016334,3.52581991835878</td>\n",
       "      <td>-0.0030015861938741785,0.002416949504063036,0....</td>\n",
       "      <td>[4.20577174,-1.40001973],[0.58587992,-0.600728...</td>\n",
       "      <td>[8.421770797635304],[148.53895792332335],[0],[...</td>\n",
       "    </tr>\n",
       "  </tbody>\n",
       "</table>\n",
       "</div>"
      ],
      "text/plain": [
       "                       robot_position  \\\n",
       "  1.6998447315016334,3.52581991835878   \n",
       "\n",
       "                                  robot_orientation  \\\n",
       "  -0.0030015861938741785,0.002416949504063036,0....   \n",
       "\n",
       "                                    centroid_record  \\\n",
       "  [4.20577174,-1.40001973],[0.58587992,-0.600728...   \n",
       "\n",
       "                                   info_gain_record  \n",
       "  [8.421770797635304],[148.53895792332335],[0],[...  "
      ]
     },
     "execution_count": 13,
     "metadata": {},
     "output_type": "execute_result"
    }
   ],
   "source": [
    "import csv\n",
    "import pandas as pd\n",
    "\n",
    "directory = '/home/kenji_leong/explORB-SLAM-RL/src/decision_maker/csv/aws_house/a.csv'\n",
    "raw_data = pd.read_csv(directory,sep=' ',header=None)\n",
    "raw_data.columns=['robot_position', 'robot_orientation','centroid_record', 'info_gain_record']\n",
    "# Convert columns to numeric data types\n",
    "\n",
    "# Print DataFrame without index\n",
    "blankIndex = [''] * len(raw_data)\n",
    "raw_data.index = blankIndex\n",
    "\n",
    "# Print data types\n",
    "print(raw_data.dtypes)\n",
    "raw_data"
   ]
  }
 ],
 "metadata": {
  "kernelspec": {
   "display_name": "Python 3",
   "language": "python",
   "name": "python3"
  },
  "language_info": {
   "codemirror_mode": {
    "name": "ipython",
    "version": 3
   },
   "file_extension": ".py",
   "mimetype": "text/x-python",
   "name": "python",
   "nbconvert_exporter": "python",
   "pygments_lexer": "ipython3",
   "version": "3.8.10"
  },
  "orig_nbformat": 4
 },
 "nbformat": 4,
 "nbformat_minor": 2
}
